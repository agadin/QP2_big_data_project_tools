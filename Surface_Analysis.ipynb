{
 "cells": [
  {
   "cell_type": "markdown",
   "id": "e327bcd16956e782",
   "metadata": {},
   "source": [
    "# Texture Analysis Notebook for PNG CT Images\n",
    "\n",
    "This notebook provides an easy-to-use tool for performing texture analysis on PNG medical images (assumed to be CT images).\n",
    "It computes texture features using the Gray-Level Co-occurrence Matrix (GLCM).\n",
    "\n",
    "**Features:**\n",
    "\n",
    "- **Texture Features:**\n",
    "  Computes the following GLCM-based features:\n",
    "  - **Contrast:** Quantifies local intensity variations.\n",
    "  - **Correlation:** Measures the linear dependency between neighboring pixels.\n",
    "  - **Energy:** Indicates textural uniformity.\n",
    "  - **Homogeneity:** Reflects the closeness of the distribution of elements in the GLCM to its diagonal.\n",
    "\n",
    "- **Basic Statistics:**\n",
    "  Calculates the mean, standard deviation, and median of the image intensities.\n",
    "\n",
    "- **Black Frame Detection:**\n",
    "  Automatically skips images that are completely black (i.e. maximum pixel value is 0).\n",
    "\n",
    "- **Output:**\n",
    "  Saves the analysis results in a CSV file and displays the images along with the computed metrics.\n",
    "\n",
    "**Instructions:**\n",
    "\n",
    "1. Adjust the `image_directory` variable (the folder containing your PNG images).\n",
    "2. Run the notebook cells in order.\n",
    "3. Converted images will be stored in a subfolder named `CT_converted`.\n",
    "4. The texture analysis results will be saved to `texture_analysis_results.csv`.\n",
    "\n",
    "---\n",
    "\n",
    "## Explanation of Texture Analysis Methods\n",
    "\n",
    "The notebook computes several texture features based on the Gray-Level Co-occurrence Matrix (GLCM). Each metric provides insight into the spatial distribution and relationship of pixel intensities within the image:\n",
    "\n",
    "- **Contrast:**\n",
    "  Measures the local variations in intensity. High contrast may indicate heterogeneous tissue.\n",
    "\n",
    "- **Correlation:**\n",
    "  Assesses the linear dependency between pixel intensities. Higher correlation can suggest more uniform textures.\n",
    "\n",
    "- **Energy:**\n",
    "  Also known as Angular Second Moment, it reflects textural uniformity. Higher energy implies smoother textures.\n",
    "\n",
    "- **Homogeneity:**\n",
    "  Indicates the closeness of the distribution of elements in the GLCM to the diagonal, reflecting texture smoothness.\n",
    "\n",
    "- **Basic Statistics (Mean, Standard Deviation, Median):**\n",
    "  These provide additional details about the intensity distribution, which can be useful for further clinical insights.\n",
    "\n",
    "---\n",
    "\n",
    "Proceed with the code cell below to run the texture analysis.\n"
   ]
  },
  {
   "cell_type": "code",
   "execution_count": null,
   "id": "66f666b6",
   "metadata": {},
   "outputs": [],
   "source": [
    "!pip install numpy pandas matplotlib SimpleITK scikit-image jupyter"
   ]
  },
  {
   "cell_type": "markdown",
   "id": "8a1654040c2f7264",
   "metadata": {},
   "source": [
    "## Import Packages"
   ]
  },
  {
   "cell_type": "code",
   "execution_count": null,
   "id": "59e5a1bc7d3841cd",
   "metadata": {
    "ExecuteTime": {
     "end_time": "2025-02-13T20:36:46.797008Z",
     "start_time": "2025-02-13T20:36:46.784695Z"
    }
   },
   "outputs": [],
   "source": [
    "import os\n",
    "import re\n",
    "import numpy as np\n",
    "import pandas as pd\n",
    "import matplotlib.pyplot as plt\n",
    "import SimpleITK as sitk\n",
    "from skimage.feature.texture import graycomatrix, graycoprops\n",
    "from skimage.util import img_as_ubyte\n",
    "\n",
    "# Enable inline plotting in Jupyter\n",
    "%matplotlib inline"
   ]
  },
  {
   "cell_type": "markdown",
   "id": "da614388dba4ed1a",
   "metadata": {},
   "source": [
    "## CT Processing Functions"
   ]
  },
  {
   "cell_type": "code",
   "execution_count": null,
   "id": "d4bdc33392707501",
   "metadata": {
    "ExecuteTime": {
     "end_time": "2025-02-13T20:36:49.005433Z",
     "start_time": "2025-02-13T20:36:48.998716Z"
    }
   },
   "outputs": [],
   "source": [
    "def ensure_image(input_path, output_path):\n",
    "    \"\"\"\n",
    "    Reads a image (PNG) using SimpleITK and ensures it has a supported pixel type.\n",
    "    If not (e.g. it is 64-bit or int32), the image is cast to 32-bit float.\n",
    "    The resulting image is saved to output_path.\n",
    "    \"\"\"\n",
    "    try:\n",
    "        image = sitk.ReadImage(input_path)\n",
    "    except Exception as e:\n",
    "        print(f\"Error reading image {input_path} with SimpleITK: {e}\")\n",
    "        return None\n",
    "\n",
    "    # Allowed pixel types for PNG writing.\n",
    "    allowed_types = [sitk.sitkUInt8, sitk.sitkInt8, sitk.sitkUInt16, sitk.sitkInt16, sitk.sitkFloat32]\n",
    "    if image.GetPixelID() not in allowed_types:\n",
    "        image = sitk.Cast(image, sitk.sitkFloat32)\n",
    "        print(f\"Casting image {input_path} to 32-bit float (sitkFloat32).\")\n",
    "    try:\n",
    "        sitk.WriteImage(image, output_path)\n",
    "        print(f\"Saved converted image to {output_path}\")\n",
    "    except Exception as e:\n",
    "        print(f\"Error writing image to {output_path}: {e}\")\n",
    "        return None\n",
    "    return output_path\n",
    "\n",
    "def analyze_texture(image_path):\n",
    "    \"\"\"\n",
    "    Analyzes the texture of a CT or MRI image.\n",
    "    The image is read with SimpleITK, converted to 8-bit (using img_as_ubyte),\n",
    "    and then used to compute the Gray-Level Co-occurrence Matrix (GLCM) and\n",
    "    derived texture features.\n",
    "    Black frames (i.e. images with a maximum pixel value of 0) are skipped.\n",
    "    \"\"\"\n",
    "    try:\n",
    "        image = sitk.ReadImage(image_path)\n",
    "        image_array = sitk.GetArrayFromImage(image)\n",
    "        # Skip completely black images.\n",
    "        if np.max(image_array) == 0:\n",
    "            print(f\"Skipping image {image_path} because it is a black frame.\")\n",
    "            return None\n",
    "\n",
    "        image_array = img_as_ubyte(image_array)\n",
    "        distances = [5]\n",
    "        angles = [0, np.pi / 4, np.pi / 2, 3 * np.pi / 4]\n",
    "        glcm = graycomatrix(image_array, distances=distances, angles=angles,\n",
    "                             symmetric=True, normed=True)\n",
    "        contrast = graycoprops(glcm, 'contrast')[0, 0]\n",
    "        correlation = graycoprops(glcm, 'correlation')[0, 0]\n",
    "        energy = graycoprops(glcm, 'energy')[0, 0]\n",
    "        homogeneity = graycoprops(glcm, 'homogeneity')[0, 0]\n",
    "        mean_val = np.mean(image_array)\n",
    "        std_val = np.std(image_array)\n",
    "        median_val = np.median(image_array)\n",
    "        return {\n",
    "            'contrast': contrast,\n",
    "            'correlation': correlation,\n",
    "            'energy': energy,\n",
    "            'homogeneity': homogeneity,\n",
    "            'mean': mean_val,\n",
    "            'std': std_val,\n",
    "            'median': median_val\n",
    "        }\n",
    "    except Exception as e:\n",
    "        print(f\"Error processing image {image_path}: {e}\")\n",
    "        return None"
   ]
  },
  {
   "cell_type": "markdown",
   "id": "243446b2d19ec5a5",
   "metadata": {},
   "source": [
    "## Image Stack Analysis Function"
   ]
  },
  {
   "cell_type": "code",
   "execution_count": null,
   "id": "93fe318f919aea79",
   "metadata": {
    "ExecuteTime": {
     "end_time": "2025-02-13T20:36:52.758363Z",
     "start_time": "2025-02-13T20:36:52.745881Z"
    }
   },
   "outputs": [],
   "source": [
    "def analyze_image_stack(image_directory, output_csv, converted_dir=None):\n",
    "    \"\"\"\n",
    "    Analyzes a stack of PNG images in a directory and saves the results to a CSV file.\n",
    "    Each file is converted (if needed) using the CT processing pipeline and then analyzed.\n",
    "    Black frame images are skipped.\n",
    "    \"\"\"\n",
    "    all_features = {}\n",
    "    # Filter for PNG files.\n",
    "    image_files = [f for f in os.listdir(image_directory) if f.lower().endswith('.png')]\n",
    "\n",
    "    # Sort files based on a numerical part of the filename.\n",
    "    def extract_number(filename):\n",
    "        match = re.search(r'_(\\d{4})\\.png$', filename)\n",
    "        return int(match.group(1)) if match else 0\n",
    "\n",
    "    image_files.sort(key=extract_number)\n",
    "\n",
    "    # If no converted directory is provided, make one inside image_directory.\n",
    "    if converted_dir is None:\n",
    "        converted_dir = os.path.join(image_directory, \"CT_converted\")\n",
    "    if not os.path.exists(converted_dir):\n",
    "        os.makedirs(converted_dir)\n",
    "    for image_file in image_files:\n",
    "        original_path = os.path.join(image_directory, image_file)\n",
    "        converted_path = os.path.join(converted_dir, image_file)\n",
    "        ct_path = ensure_image(original_path, converted_path)\n",
    "        if ct_path is None:\n",
    "            print(f\"Skipping {original_path} due to conversion error.\")\n",
    "            continue\n",
    "        features = analyze_texture(ct_path)\n",
    "        if features is not None:\n",
    "            all_features[image_file] = features\n",
    "\n",
    "    # Save the results to CSV.\n",
    "    df = pd.DataFrame.from_dict(all_features, orient='index')\n",
    "    df.to_csv(output_csv, index=True)\n",
    "    print(f\"Texture analysis results saved to {output_csv}\")\n",
    "    return all_features\n",
    "\n",
    "def show_images_with_analysis(converted_dir, all_features):\n",
    "    \"\"\"\n",
    "    Displays CT images (from the converted folder) along with their texture analysis.\n",
    "    \"\"\"\n",
    "    for image_file, features in all_features.items():\n",
    "        image_path = os.path.join(converted_dir, image_file)\n",
    "        try:\n",
    "            image = sitk.ReadImage(image_path)\n",
    "            image_array = sitk.GetArrayFromImage(image)\n",
    "        except Exception as e:\n",
    "            print(f\"Error reading CT image {image_path} for display: {e}\")\n",
    "            continue\n",
    "        plt.figure()\n",
    "        plt.imshow(image_array, cmap='gray')\n",
    "        plt.title(f\"{image_file}\\nContrast: {features['contrast']:.2f}, \"\n",
    "                  f\"Correlation: {features['correlation']:.2f}, Energy: {features['energy']:.2f}, \"\n",
    "                  f\"Homogeneity: {features['homogeneity']:.2f}\")\n",
    "        plt.axis('off')\n",
    "        plt.show()"
   ]
  },
  {
   "cell_type": "markdown",
   "id": "f343ae789bfd96db",
   "metadata": {},
   "source": [
    "## Main Cell"
   ]
  },
  {
   "cell_type": "code",
   "execution_count": null,
   "id": "4e5266aee3fa4ce3",
   "metadata": {
    "ExecuteTime": {
     "end_time": "2025-02-13T20:37:21.276274Z",
     "start_time": "2025-02-13T20:37:21.182157Z"
    }
   },
   "outputs": [],
   "source": [
    "if __name__ == \"__main__\":\n",
    "    # Set the directory of the original PNG images.\n",
    "    image_directory = \"/path/to/your/png/files\"  # Change this to your image directory!\n",
    "\n",
    "    # Create a directory for converted images if it doesn't exist.\n",
    "    converted_directory = os.path.join(image_directory, \"/folder/_converted\")\n",
    "    if not os.path.exists(converted_directory):\n",
    "        os.makedirs(converted_directory)\n",
    "\n",
    "    # Define the CSV output file location.\n",
    "    output_csv = os.path.join(converted_directory, \"texture_analysis_results.csv\")\n",
    "\n",
    "    # Analyze the image stack using the CT pipeline.\n",
    "    all_features = analyze_image_stack(image_directory, output_csv, converted_directory)\n",
    "    show_images_with_analysis(converted_directory, all_features)"
   ]
  },
  {
   "cell_type": "code",
   "execution_count": null,
   "id": "aa613e90",
   "metadata": {},
   "outputs": [],
   "source": []
  }
 ],
 "metadata": {
  "kernelspec": {
   "display_name": "Python 3 (ipykernel)",
   "language": "python",
   "name": "python3"
  },
  "language_info": {
   "codemirror_mode": {
    "name": "ipython",
    "version": 3
   },
   "file_extension": ".py",
   "mimetype": "text/x-python",
   "name": "python",
   "nbconvert_exporter": "python",
   "pygments_lexer": "ipython3",
   "version": "3.11.5"
  },
  "varInspector": {
   "cols": {
    "lenName": 16,
    "lenType": 16,
    "lenVar": 40
   },
   "kernels_config": {
    "python": {
     "delete_cmd_postfix": "",
     "delete_cmd_prefix": "del ",
     "library": "var_list.py",
     "varRefreshCmd": "print(var_dic_list())"
    },
    "r": {
     "delete_cmd_postfix": ") ",
     "delete_cmd_prefix": "rm(",
     "library": "var_list.r",
     "varRefreshCmd": "cat(var_dic_list()) "
    }
   },
   "types_to_exclude": [
    "module",
    "function",
    "builtin_function_or_method",
    "instance",
    "_Feature"
   ],
   "window_display": false
  }
 },
 "nbformat": 4,
 "nbformat_minor": 5
}
