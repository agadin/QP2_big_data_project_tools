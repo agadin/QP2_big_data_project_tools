{
 "cells": [
  {
   "cell_type": "markdown",
   "id": "e8dd1cfd5765b1b1",
   "metadata": {},
   "source": [
    "# 3D Viewer\n",
    "A simple 3D viewer for visualizing 3D image stacks as isosurfaces. This viewer uses the marching cubes algorithm to extract the isosurface from the 3D volume data and displays it interactively using plotly. This tool also offers a great way to add pictures to your report.\n",
    "\n",
    "<center>\n",
    "    <img src=\"https://raw.githubusercontent.com/agadin/QP2_big_data_project_tools/refs/heads/main/img/viewersample.png\" alt=\"Viewer Sample\" />\n",
    "</center>"
   ]
  },
  {
   "cell_type": "markdown",
   "id": "562a75eefd501e82",
   "metadata": {},
   "source": [
    "# Upload the Image Stack\n",
    "Run the following block of code and select the folder containing the image stack you want to analyze. The image stack should be in a folder containing the image files (e.g. MRI_4, CT_1, etc.).\n"
   ]
  },
  {
   "cell_type": "code",
   "execution_count": 1,
   "id": "5f232f79e8023959",
   "metadata": {
    "ExecuteTime": {
     "end_time": "2025-01-23T17:09:10.303715Z",
     "start_time": "2025-01-23T17:09:08.998684Z"
    }
   },
   "outputs": [
    {
     "data": {
      "application/vnd.jupyter.widget-view+json": {
       "model_id": "b4b626c658dd4bf48a06d8bbeca53551",
       "version_major": 2,
       "version_minor": 0
      },
      "text/plain": [
       "VBox(children=(Text(value='/Users/alexandergadin/PycharmProjects/QP2_Big_data_project_tools', description='Pat…"
      ]
     },
     "metadata": {},
     "output_type": "display_data"
    }
   ],
   "source": [
    "!pip install numpy ipywidgets ipython opencv-python > /dev/null 2>&1\n",
    "import os\n",
    "import ipywidgets as widgets\n",
    "from IPython.display import display\n",
    "\n",
    "current_path = 'insert_path_here' # Change this to the path of the folder containing the image stack\n"
   ]
  },
  {
   "metadata": {
    "collapsed": true
   },
   "cell_type": "code",
   "outputs": [],
   "execution_count": null,
   "source": [
    "import os\n",
    "import numpy as np\n",
    "from skimage import measure\n",
    "import cv2\n",
    "import plotly.graph_objects as go\n",
    "\n",
    "\n",
    "if current_path is None:\n",
    "    raise ValueError(\"No folder selected. Please complete the previous cell first.\")\n",
    "def load_images(folder_path):\n",
    "    \"\"\"\n",
    "    Load and process image stack from a folder and put them into a numpy array.\n",
    "\n",
    "    Args:\n",
    "        folder_path (str): Path to the folder containing the image files.\n",
    "\n",
    "    Returns:\n",
    "        np.ndarray: A numpy array containing the loaded images.\n",
    "    \"\"\"\n",
    "    file_paths = sorted(\n",
    "        [os.path.join(folder_path, f) for f in os.listdir(folder_path) if f.endswith('.tif')]\n",
    "    )\n",
    "    images = []\n",
    "    for file_path in file_paths:\n",
    "        img = cv2.imread(file_path, cv2.IMREAD_UNCHANGED)\n",
    "        if img is not None:\n",
    "            images.append(img)\n",
    "    return np.array(images)\n",
    "\n",
    "\n",
    "def extract_mesh(volume, threshold=1):\n",
    "    \"\"\"\n",
    "    Extracts isosurface using the Marching Cubes algorithm.\n",
    "\n",
    "    Args:\n",
    "        volume (np.ndarray): The 3D volume data from which to extract the isosurface.\n",
    "        threshold (float, optional): The threshold value to use for the isosurface extraction. Defaults to 1.\n",
    "\n",
    "    Returns:\n",
    "        tuple: A tuple containing the vertices, faces, and values of the extracted isosurface.\n",
    "    \"\"\"\n",
    "    verts, faces, normals, values = measure.marching_cubes(volume, level=threshold)\n",
    "    return verts, faces, values\n",
    "\n",
    "def adjust_scales(verts, folder_name):\n",
    "    \"\"\"\n",
    "    Adjust scales for the z-axis based on the folder name.\n",
    "\n",
    "    Args:\n",
    "        verts (np.ndarray): Vertices of the isosurface.\n",
    "        folder_name (str): Name of the folder to check for CT images.\n",
    "\n",
    "    Returns:\n",
    "        np.ndarray: Scaled vertices.\n",
    "    \"\"\"\n",
    "    scale_xy = 10 / 17.53\n",
    "\n",
    "\n",
    "    if \"CT\" in folder_name:\n",
    "        z_scale_factor = 4 / scale_xy\n",
    "        verts[:, 2] *= z_scale_factor\n",
    "    else:\n",
    "        z_scale_factor = 1 / scale_xy\n",
    "        verts[:, 2] *= z_scale_factor  # Adjust the z-axis\n",
    "\n",
    "    return verts\n",
    "\n",
    "def create_figure(verts, faces, values, plane_position, plane_normal):\n",
    "    \"\"\"Create the Plotly figure with a toggle for the slicing plane.\"\"\"\n",
    "    x, y, z = verts[:, 0], verts[:, 1], verts[:, 2]\n",
    "    i, j, k = faces.T\n",
    "    min_value, max_value = values.min(), values.max()\n",
    "    normalized_values = (values - min_value) / (max_value - min_value)\n",
    "\n",
    "    a, b, c = plane_normal\n",
    "    d = -np.dot(plane_normal, plane_position)\n",
    "    xx, yy = np.meshgrid(\n",
    "        np.linspace(min(x), max(x), 50), np.linspace(min(y), max(y), 50)\n",
    "    )\n",
    "    zz = (-a * xx - b * yy - d) / c\n",
    "\n",
    "    fig = go.Figure()\n",
    "\n",
    "    fig.add_trace(go.Mesh3d(\n",
    "        x=x, y=y, z=z,\n",
    "        i=i, j=j, k=k,\n",
    "        intensity=normalized_values,\n",
    "        colorscale='Gray',\n",
    "        showscale=False,\n",
    "        opacity=1.0,\n",
    "        name=\"Isosurface\",\n",
    "        visible=True\n",
    "    ))\n",
    "\n",
    "    # Add the slicing plane\n",
    "    fig.add_trace(go.Surface(\n",
    "        x=xx, y=yy, z=zz,\n",
    "        colorscale=[[0, 'red'], [1, 'red']],\n",
    "        showscale=False,\n",
    "        opacity=1.0,\n",
    "        name=\"Slicing Plane\",\n",
    "        visible=False\n",
    "    ))\n",
    "\n",
    "    # Add toggle buttons\n",
    "    fig.update_layout(\n",
    "        scene=dict(\n",
    "            xaxis=dict(visible=False),\n",
    "            yaxis=dict(visible=False),\n",
    "            zaxis=dict(visible=False),\n",
    "        ),\n",
    "        margin=dict(l=0, r=0, t=0, b=0),\n",
    "    )\n",
    "\n",
    "    return fig\n",
    "\n",
    "\n",
    "# Main Script\n",
    "volume = load_images(current_path)\n",
    "\n",
    "# Extract the mesh\n",
    "threshold_value = 1\n",
    "verts, faces, values = extract_mesh(volume, threshold=threshold_value)\n",
    "\n",
    "# Adjust scales\n",
    "verts = adjust_scales(verts, current_path)\n",
    "\n",
    "\n",
    "# Define plane properties\n",
    "plane_position = [0, 0, 0]\n",
    "plane_normal = [1, 0, 0]\n",
    "\n",
    "# Figure\n",
    "fig = create_figure(verts, faces, values, plane_position, plane_normal)\n",
    "fig.show()\n"
   ],
   "id": "initial_id"
  },
  {
   "cell_type": "code",
   "execution_count": null,
   "id": "d136c8b4995a054d",
   "metadata": {},
   "outputs": [],
   "source": []
  }
 ],
 "metadata": {
  "kernelspec": {
   "display_name": "Python 3 (ipykernel)",
   "language": "python",
   "name": "python3"
  },
  "language_info": {
   "codemirror_mode": {
    "name": "ipython",
    "version": 3
   },
   "file_extension": ".py",
   "mimetype": "text/x-python",
   "name": "python",
   "nbconvert_exporter": "python",
   "pygments_lexer": "ipython3",
   "version": "3.11.5"
  },
  "varInspector": {
   "cols": {
    "lenName": 16,
    "lenType": 16,
    "lenVar": 40
   },
   "kernels_config": {
    "python": {
     "delete_cmd_postfix": "",
     "delete_cmd_prefix": "del ",
     "library": "var_list.py",
     "varRefreshCmd": "print(var_dic_list())"
    },
    "r": {
     "delete_cmd_postfix": ") ",
     "delete_cmd_prefix": "rm(",
     "library": "var_list.r",
     "varRefreshCmd": "cat(var_dic_list()) "
    }
   },
   "types_to_exclude": [
    "module",
    "function",
    "builtin_function_or_method",
    "instance",
    "_Feature"
   ],
   "window_display": false
  }
 },
 "nbformat": 4,
 "nbformat_minor": 5
}
