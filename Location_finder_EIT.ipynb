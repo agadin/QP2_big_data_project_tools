{
 "cells": [
  {
   "cell_type": "markdown",
   "id": "87b7e754e780a804",
   "metadata": {},
   "source": [
    "# Location Finder\n",
    "An excited new technology in the field of image datascience and radiology is the use of machine learning to locate and idenpngy specific structures in medical images in 3D space. This technology can be used to assist radiologists in diagnosing diseases and conditions, as well as to help researchers analyze large volumes of medical image data.\n",
    "\n",
    "An example of this technology is the nnU-Net framework (linke to their nature publication: https://www.nature.com/articles/s41592-020-01008-z), which is a deep learning model for medical image segmentation. This model can be used to locate and idenpngy different organs in medical images in 3D space. In this notebook, we will demonstrate how to use a nnU-Net model trained across 120 abdomen CT and 40 MRI scans to locate and idenpngy structures in your image stack from either image technology.\n",
    "\n",
    "The output of the model will be a prediction on the location of the structures in the image stack. The prediction will be in the form of a description that describes the location of the structures in the image stack. The prediction will be displayed in the notebook.\n",
    "\n",
    "This notebook will guide you through the process of downloading the required files, uploading your image stack, formating your uploaded image stack and running the model to generate a prediction. To get started, run the cells below and follow the instructions."
   ]
  },
  {
   "cell_type": "code",
   "execution_count": null,
   "id": "initial_id",
   "metadata": {
    "collapsed": true,
    "jupyter": {
     "outputs_hidden": true
    }
   },
   "outputs": [],
   "source": []
  },
  {
   "cell_type": "markdown",
   "id": "ad81606f18fd2610",
   "metadata": {},
   "source": [
    "# Download required files\n",
    "Before we can use the model, we need to download the required files. The files include the trained model weights and configuration. The files are stored in a ZIP archive, which we will download and automatically extract. When the extraction is complete, the script will automatically set the environment variables required by the prediction logarithm nnU-Net framework."
   ]
  },
  {
   "cell_type": "code",
   "id": "d7c452b7ed8a5756",
   "metadata": {
    "scrolled": true,
    "ExecuteTime": {
     "end_time": "2025-01-23T06:10:31.295945Z",
     "start_time": "2025-01-23T06:09:50.109741Z"
    }
   },
   "source": [
    "import os\n",
    "import zipfile\n",
    "\n",
    "!pip install ipywidgets nnUNetv2 requests\n",
    "\n",
    "import requests\n",
    "# Define the URL and output file name\n",
    "url = \"https://wustl.box.com/shared/static/12gz6cy9n5isi5e3b6zcxgow6g9uf9v8.zip\"\n",
    "output_file = \"Results_Folder.zip\"\n",
    "extracted_folder = \"Results_Folder\"\n",
    "\n",
    "# Define the URL and file paths\n",
    "url = \"https://wustl.box.com/shared/static/12gz6cy9n5isi5e3b6zcxgow6g9uf9v8.zip\"\n",
    "output_file = \"Results_Folder.zip\"\n",
    "extracted_folder = \"Results_Folder\"\n",
    "\n",
    "# Download the file using requests\n",
    "def download_file(url, output_file):\n",
    "    print(\"Starting download...\")\n",
    "    with requests.get(url, stream=True) as response:\n",
    "        response.raise_for_status()  # Raise an exception for HTTP errors\n",
    "        with open(output_file, 'wb') as f:\n",
    "            for chunk in response.iter_content(chunk_size=8192):\n",
    "                f.write(chunk)\n",
    "    print(f\"File downloaded successfully: {output_file}\")\n",
    "\n",
    "# Unzip the downloaded file\n",
    "def unzip_file(zip_file, extract_to):\n",
    "    print(f\"Unzipping file: {zip_file}\")\n",
    "    with zipfile.ZipFile(zip_file, 'r') as zip_ref:\n",
    "        zip_ref.extractall(extract_to)\n",
    "    print(f\"Files extracted to: {extract_to}\")\n",
    "\n",
    "# Perform the download and extraction\n",
    "if os.path.exists(extracted_folder):\n",
    "    # Delete existing files\n",
    "    for root, dirs, files in os.walk(extracted_folder, topdown=False):\n",
    "        for name in files:\n",
    "            os.remove(os.path.join(root, name))\n",
    "        for name in dirs:\n",
    "            os.rmdir(os.path.join(root, name))\n",
    "    os.rmdir(extracted_folder)\n",
    "    print(f\"Deleted existing folder: {extracted_folder}\")\n",
    "\n",
    "if os.path.exists(output_file):\n",
    "    os.remove(output_file)\n",
    "    print(f\"Deleted existing file: {output_file}\")\n",
    "\n",
    "download_file(url, output_file)\n",
    "unzip_file(output_file, extracted_folder)\n",
    "\n",
    "\n",
    "# Get the absolute path of the extracted folder\n",
    "extracted_path = os.path.abspath(extracted_folder)\n",
    "\n",
    "extracted_path = os.path.join(extracted_path, \"Results_Folder\")\n",
    "# Set environment variables\n",
    "os.environ['nnUNet_raw'] = extracted_path\n",
    "os.environ['nnUNet_results'] = extracted_path\n",
    "os.environ['nnUNet_preprocessed'] = extracted_path\n",
    "\n",
    "# Print the environment variables to verify\n",
    "print(f\"nnUNet_raw={os.environ['nnUNet_raw']}\")\n",
    "print(f\"nnUNet_results={os.environ['nnUNet_results']}\")\n",
    "print(f\"nnUNet_preprocessed={os.environ['nnUNet_preprocessed']}\")"
   ],
   "outputs": [
    {
     "name": "stdout",
     "output_type": "stream",
     "text": [
      "Requirement already satisfied: ipywidgets in ./venv/lib/python3.9/site-packages (8.1.5)\r\n",
      "Requirement already satisfied: nnUNetv2 in ./venv/lib/python3.9/site-packages (2.5.1)\r\n",
      "Requirement already satisfied: requests in ./venv/lib/python3.9/site-packages (2.32.3)\r\n",
      "Requirement already satisfied: comm>=0.1.3 in ./venv/lib/python3.9/site-packages (from ipywidgets) (0.2.2)\r\n",
      "Requirement already satisfied: ipython>=6.1.0 in ./venv/lib/python3.9/site-packages (from ipywidgets) (8.18.1)\r\n",
      "Requirement already satisfied: traitlets>=4.3.1 in ./venv/lib/python3.9/site-packages (from ipywidgets) (5.14.3)\r\n",
      "Requirement already satisfied: widgetsnbextension~=4.0.12 in ./venv/lib/python3.9/site-packages (from ipywidgets) (4.0.13)\r\n",
      "Requirement already satisfied: jupyterlab-widgets~=3.0.12 in ./venv/lib/python3.9/site-packages (from ipywidgets) (3.0.13)\r\n",
      "Requirement already satisfied: torch>=2.1.2 in ./venv/lib/python3.9/site-packages (from nnUNetv2) (2.5.1)\r\n",
      "Requirement already satisfied: acvl-utils<0.3,>=0.2 in ./venv/lib/python3.9/site-packages (from nnUNetv2) (0.2.1)\r\n",
      "Requirement already satisfied: dynamic-network-architectures<0.4,>=0.3.1 in ./venv/lib/python3.9/site-packages (from nnUNetv2) (0.3.1)\r\n",
      "Requirement already satisfied: tqdm in ./venv/lib/python3.9/site-packages (from nnUNetv2) (4.67.1)\r\n",
      "Requirement already satisfied: dicom2nifti in ./venv/lib/python3.9/site-packages (from nnUNetv2) (2.5.1)\r\n",
      "Requirement already satisfied: scipy in ./venv/lib/python3.9/site-packages (from nnUNetv2) (1.13.1)\r\n",
      "Requirement already satisfied: batchgenerators>=0.25 in ./venv/lib/python3.9/site-packages (from nnUNetv2) (0.25.1)\r\n",
      "Requirement already satisfied: numpy in ./venv/lib/python3.9/site-packages (from nnUNetv2) (2.0.2)\r\n",
      "Requirement already satisfied: scikit-learn in ./venv/lib/python3.9/site-packages (from nnUNetv2) (1.6.1)\r\n",
      "Requirement already satisfied: scikit-image>=0.19.3 in ./venv/lib/python3.9/site-packages (from nnUNetv2) (0.24.0)\r\n",
      "Requirement already satisfied: SimpleITK>=2.2.1 in ./venv/lib/python3.9/site-packages (from nnUNetv2) (2.4.1)\r\n",
      "Requirement already satisfied: pandas in ./venv/lib/python3.9/site-packages (from nnUNetv2) (2.2.3)\r\n",
      "Requirement already satisfied: graphviz in ./venv/lib/python3.9/site-packages (from nnUNetv2) (0.20.3)\r\n",
      "Requirement already satisfied: tifffile in ./venv/lib/python3.9/site-packages (from nnUNetv2) (2024.8.30)\r\n",
      "Requirement already satisfied: nibabel in ./venv/lib/python3.9/site-packages (from nnUNetv2) (5.3.2)\r\n",
      "Requirement already satisfied: matplotlib in ./venv/lib/python3.9/site-packages (from nnUNetv2) (3.9.4)\r\n",
      "Requirement already satisfied: seaborn in ./venv/lib/python3.9/site-packages (from nnUNetv2) (0.13.2)\r\n",
      "Requirement already satisfied: imagecodecs in ./venv/lib/python3.9/site-packages (from nnUNetv2) (2024.12.30)\r\n",
      "Requirement already satisfied: yacs in ./venv/lib/python3.9/site-packages (from nnUNetv2) (0.1.8)\r\n",
      "Requirement already satisfied: batchgeneratorsv2>=0.2 in ./venv/lib/python3.9/site-packages (from nnUNetv2) (0.2.1)\r\n",
      "Requirement already satisfied: einops in ./venv/lib/python3.9/site-packages (from nnUNetv2) (0.8.0)\r\n",
      "Requirement already satisfied: charset-normalizer<4,>=2 in ./venv/lib/python3.9/site-packages (from requests) (3.4.1)\r\n",
      "Requirement already satisfied: idna<4,>=2.5 in ./venv/lib/python3.9/site-packages (from requests) (3.10)\r\n",
      "Requirement already satisfied: urllib3<3,>=1.21.1 in ./venv/lib/python3.9/site-packages (from requests) (2.3.0)\r\n",
      "Requirement already satisfied: certifi>=2017.4.17 in ./venv/lib/python3.9/site-packages (from requests) (2024.12.14)\r\n",
      "Requirement already satisfied: connected-components-3d in ./venv/lib/python3.9/site-packages (from acvl-utils<0.3,>=0.2->nnUNetv2) (3.22.0)\r\n",
      "Requirement already satisfied: pillow>=7.1.2 in ./venv/lib/python3.9/site-packages (from batchgenerators>=0.25->nnUNetv2) (11.1.0)\r\n",
      "Requirement already satisfied: future in ./venv/lib/python3.9/site-packages (from batchgenerators>=0.25->nnUNetv2) (1.0.0)\r\n",
      "Requirement already satisfied: unittest2 in ./venv/lib/python3.9/site-packages (from batchgenerators>=0.25->nnUNetv2) (1.1.0)\r\n",
      "Requirement already satisfied: threadpoolctl in ./venv/lib/python3.9/site-packages (from batchgenerators>=0.25->nnUNetv2) (3.5.0)\r\n",
      "Requirement already satisfied: fft-conv-pytorch in ./venv/lib/python3.9/site-packages (from batchgeneratorsv2>=0.2->nnUNetv2) (1.2.0)\r\n",
      "Requirement already satisfied: decorator in ./venv/lib/python3.9/site-packages (from ipython>=6.1.0->ipywidgets) (5.1.1)\r\n",
      "Requirement already satisfied: jedi>=0.16 in ./venv/lib/python3.9/site-packages (from ipython>=6.1.0->ipywidgets) (0.19.2)\r\n",
      "Requirement already satisfied: matplotlib-inline in ./venv/lib/python3.9/site-packages (from ipython>=6.1.0->ipywidgets) (0.1.7)\r\n",
      "Requirement already satisfied: prompt-toolkit<3.1.0,>=3.0.41 in ./venv/lib/python3.9/site-packages (from ipython>=6.1.0->ipywidgets) (3.0.50)\r\n",
      "Requirement already satisfied: pygments>=2.4.0 in ./venv/lib/python3.9/site-packages (from ipython>=6.1.0->ipywidgets) (2.19.1)\r\n",
      "Requirement already satisfied: stack-data in ./venv/lib/python3.9/site-packages (from ipython>=6.1.0->ipywidgets) (0.6.3)\r\n",
      "Requirement already satisfied: typing-extensions in ./venv/lib/python3.9/site-packages (from ipython>=6.1.0->ipywidgets) (4.12.2)\r\n",
      "Requirement already satisfied: exceptiongroup in ./venv/lib/python3.9/site-packages (from ipython>=6.1.0->ipywidgets) (1.2.2)\r\n",
      "Requirement already satisfied: pexpect>4.3 in ./venv/lib/python3.9/site-packages (from ipython>=6.1.0->ipywidgets) (4.9.0)\r\n",
      "Requirement already satisfied: networkx>=2.8 in ./venv/lib/python3.9/site-packages (from scikit-image>=0.19.3->nnUNetv2) (3.2.1)\r\n",
      "Requirement already satisfied: imageio>=2.33 in ./venv/lib/python3.9/site-packages (from scikit-image>=0.19.3->nnUNetv2) (2.36.1)\r\n",
      "Requirement already satisfied: packaging>=21 in ./venv/lib/python3.9/site-packages (from scikit-image>=0.19.3->nnUNetv2) (24.2)\r\n",
      "Requirement already satisfied: lazy-loader>=0.4 in ./venv/lib/python3.9/site-packages (from scikit-image>=0.19.3->nnUNetv2) (0.4)\r\n",
      "Requirement already satisfied: filelock in ./venv/lib/python3.9/site-packages (from torch>=2.1.2->nnUNetv2) (3.17.0)\r\n",
      "Requirement already satisfied: jinja2 in ./venv/lib/python3.9/site-packages (from torch>=2.1.2->nnUNetv2) (3.1.5)\r\n",
      "Requirement already satisfied: fsspec in ./venv/lib/python3.9/site-packages (from torch>=2.1.2->nnUNetv2) (2024.12.0)\r\n",
      "Requirement already satisfied: sympy==1.13.1 in ./venv/lib/python3.9/site-packages (from torch>=2.1.2->nnUNetv2) (1.13.1)\r\n",
      "Requirement already satisfied: mpmath<1.4,>=1.1.0 in ./venv/lib/python3.9/site-packages (from sympy==1.13.1->torch>=2.1.2->nnUNetv2) (1.3.0)\r\n",
      "Requirement already satisfied: pydicom>=2.2.0 in ./venv/lib/python3.9/site-packages (from dicom2nifti->nnUNetv2) (2.4.4)\r\n",
      "Requirement already satisfied: python-gdcm in ./venv/lib/python3.9/site-packages (from dicom2nifti->nnUNetv2) (3.0.24.1)\r\n",
      "Requirement already satisfied: contourpy>=1.0.1 in ./venv/lib/python3.9/site-packages (from matplotlib->nnUNetv2) (1.3.0)\r\n",
      "Requirement already satisfied: cycler>=0.10 in ./venv/lib/python3.9/site-packages (from matplotlib->nnUNetv2) (0.12.1)\r\n",
      "Requirement already satisfied: fonttools>=4.22.0 in ./venv/lib/python3.9/site-packages (from matplotlib->nnUNetv2) (4.55.3)\r\n",
      "Requirement already satisfied: kiwisolver>=1.3.1 in ./venv/lib/python3.9/site-packages (from matplotlib->nnUNetv2) (1.4.7)\r\n",
      "Requirement already satisfied: pyparsing>=2.3.1 in ./venv/lib/python3.9/site-packages (from matplotlib->nnUNetv2) (3.2.1)\r\n",
      "Requirement already satisfied: python-dateutil>=2.7 in ./venv/lib/python3.9/site-packages (from matplotlib->nnUNetv2) (2.9.0.post0)\r\n",
      "Requirement already satisfied: importlib-resources>=3.2.0 in ./venv/lib/python3.9/site-packages (from matplotlib->nnUNetv2) (6.5.2)\r\n",
      "Requirement already satisfied: pytz>=2020.1 in ./venv/lib/python3.9/site-packages (from pandas->nnUNetv2) (2024.2)\r\n",
      "Requirement already satisfied: tzdata>=2022.7 in ./venv/lib/python3.9/site-packages (from pandas->nnUNetv2) (2025.1)\r\n",
      "Requirement already satisfied: joblib>=1.2.0 in ./venv/lib/python3.9/site-packages (from scikit-learn->nnUNetv2) (1.4.2)\r\n",
      "Requirement already satisfied: PyYAML in ./venv/lib/python3.9/site-packages (from yacs->nnUNetv2) (6.0.2)\r\n",
      "Requirement already satisfied: zipp>=3.1.0 in ./venv/lib/python3.9/site-packages (from importlib-resources>=3.2.0->matplotlib->nnUNetv2) (3.21.0)\r\n",
      "Requirement already satisfied: parso<0.9.0,>=0.8.4 in ./venv/lib/python3.9/site-packages (from jedi>=0.16->ipython>=6.1.0->ipywidgets) (0.8.4)\r\n",
      "Requirement already satisfied: ptyprocess>=0.5 in ./venv/lib/python3.9/site-packages (from pexpect>4.3->ipython>=6.1.0->ipywidgets) (0.7.0)\r\n",
      "Requirement already satisfied: wcwidth in ./venv/lib/python3.9/site-packages (from prompt-toolkit<3.1.0,>=3.0.41->ipython>=6.1.0->ipywidgets) (0.2.13)\r\n",
      "Requirement already satisfied: six>=1.5 in ./venv/lib/python3.9/site-packages (from python-dateutil>=2.7->matplotlib->nnUNetv2) (1.17.0)\r\n",
      "Requirement already satisfied: MarkupSafe>=2.0 in ./venv/lib/python3.9/site-packages (from jinja2->torch>=2.1.2->nnUNetv2) (3.0.2)\r\n",
      "Requirement already satisfied: executing>=1.2.0 in ./venv/lib/python3.9/site-packages (from stack-data->ipython>=6.1.0->ipywidgets) (2.1.0)\r\n",
      "Requirement already satisfied: asttokens>=2.1.0 in ./venv/lib/python3.9/site-packages (from stack-data->ipython>=6.1.0->ipywidgets) (3.0.0)\r\n",
      "Requirement already satisfied: pure-eval in ./venv/lib/python3.9/site-packages (from stack-data->ipython>=6.1.0->ipywidgets) (0.2.3)\r\n",
      "Collecting argparse (from unittest2->batchgenerators>=0.25->nnUNetv2)\r\n",
      "  Obtaining dependency information for argparse from https://files.pythonhosted.org/packages/f2/94/3af39d34be01a24a6e65433d19e107099374224905f1e0cc6bbe1fd22a2f/argparse-1.4.0-py2.py3-none-any.whl.metadata\r\n",
      "  Using cached argparse-1.4.0-py2.py3-none-any.whl.metadata (2.8 kB)\r\n",
      "Requirement already satisfied: traceback2 in ./venv/lib/python3.9/site-packages (from unittest2->batchgenerators>=0.25->nnUNetv2) (1.4.0)\r\n",
      "Requirement already satisfied: linecache2 in ./venv/lib/python3.9/site-packages (from traceback2->unittest2->batchgenerators>=0.25->nnUNetv2) (1.0.0)\r\n",
      "Using cached argparse-1.4.0-py2.py3-none-any.whl (23 kB)\r\n",
      "Installing collected packages: argparse\r\n",
      "Successfully installed argparse-1.4.0\r\n",
      "\r\n",
      "\u001B[1m[\u001B[0m\u001B[34;49mnotice\u001B[0m\u001B[1;39;49m]\u001B[0m\u001B[39;49m A new release of pip is available: \u001B[0m\u001B[31;49m23.2.1\u001B[0m\u001B[39;49m -> \u001B[0m\u001B[32;49m24.3.1\u001B[0m\r\n",
      "\u001B[1m[\u001B[0m\u001B[34;49mnotice\u001B[0m\u001B[1;39;49m]\u001B[0m\u001B[39;49m To update, run: \u001B[0m\u001B[32;49mpip install --upgrade pip\u001B[0m\r\n",
      "Starting download...\n"
     ]
    },
    {
     "name": "stderr",
     "output_type": "stream",
     "text": [
      "/Users/alexandergadin/PycharmProjects/QP2_Big_data_project_tools/venv/lib/python3.9/site-packages/urllib3/__init__.py:35: NotOpenSSLWarning: urllib3 v2 only supports OpenSSL 1.1.1+, currently the 'ssl' module is compiled with 'LibreSSL 2.8.3'. See: https://github.com/urllib3/urllib3/issues/3020\n",
      "  warnings.warn(\n"
     ]
    },
    {
     "name": "stdout",
     "output_type": "stream",
     "text": [
      "File downloaded successfully: Results_Folder.zip\n",
      "Unzipping file: Results_Folder.zip\n",
      "Files extracted to: Results_Folder\n",
      "nnUNet_raw=/Users/alexandergadin/PycharmProjects/QP2_Big_data_project_tools/Results_Folder/Results_Folder\n",
      "nnUNet_results=/Users/alexandergadin/PycharmProjects/QP2_Big_data_project_tools/Results_Folder/Results_Folder\n",
      "nnUNet_preprocessed=/Users/alexandergadin/PycharmProjects/QP2_Big_data_project_tools/Results_Folder/Results_Folder\n"
     ]
    }
   ],
   "execution_count": 3
  },
  {
   "cell_type": "markdown",
   "id": "65c0030146fb1d3",
   "metadata": {},
   "source": [
    "# Upload the image stack\n",
    "Upload and select the folder containing the image stack you want to analyze. The image stack should be in a folder containing the image files. You can upload files to EIT by going to the filebrowser tab at [linuxlab.engr.wust.edu](https://linuxlab.engr.wustl.edu) and clicking the blue upload button. Once you have uploaded the image stack, run the cell below and select the folder containing the image stack."
   ]
  },
  {
   "cell_type": "code",
   "id": "9109c6b13292ac36",
   "metadata": {
    "ExecuteTime": {
     "end_time": "2025-01-23T06:10:38.272932Z",
     "start_time": "2025-01-23T06:10:38.208620Z"
    }
   },
   "source": [
    "import os\n",
    "import ipywidgets as widgets\n",
    "from IPython.display import display\n",
    "\n",
    "# Initialize the current path\n",
    "current_path = os.getcwd()  # This will hold the current directory path\n",
    "\n",
    "# Create widgets\n",
    "path_display = widgets.Text(\n",
    "    value=current_path,\n",
    "    description='Path:',\n",
    "    layout=widgets.Layout(width='800px')\n",
    ")\n",
    "\n",
    "output = widgets.Output()\n",
    "\n",
    "def display_directories(path):\n",
    "    \"\"\"Display only directories in the given path as clickable rectangles.\"\"\"\n",
    "    items = [item for item in os.listdir(path) if os.path.isdir(os.path.join(path, item))]\n",
    "    buttons = []\n",
    "\n",
    "    for item in items:\n",
    "        item_path = os.path.join(path, item)\n",
    "        button = widgets.Button(\n",
    "            description=item,\n",
    "            layout=widgets.Layout(width='auto', height='30px')\n",
    "        )\n",
    "        button.style.button_color = '#007bff'\n",
    "        button.on_click(lambda b, p=item_path: handle_directory_click(p))\n",
    "        buttons.append(button)\n",
    "\n",
    "    return widgets.VBox(buttons)\n",
    "\n",
    "def count_png_files(path):\n",
    "    \"\"\"Count the number of .png files in the given directory.\"\"\"\n",
    "    return len([f for f in os.listdir(path) if f.endswith('.png')])\n",
    "\n",
    "def handle_directory_click(directory_path):\n",
    "    \"\"\"Handle clicks on directories.\"\"\"\n",
    "    global current_path  # Make current_path accessible globally\n",
    "    current_path = directory_path  # Update global variable\n",
    "    path_display.value = current_path\n",
    "    refresh_directory_view(current_path)\n",
    "\n",
    "    # Check for .png files and display a warning if there are less than two\n",
    "    png_count = count_png_files(directory_path)\n",
    "    output.clear_output()\n",
    "    with output:\n",
    "        if png_count <= 1:\n",
    "            print(f\"Warning: The directory '{os.path.basename(directory_path)}' contains {png_count} .png file(s).\")\n",
    "        else:\n",
    "            print(f\"The directory '{os.path.basename(directory_path)}' contains enough ({png_count}) .png file(s).\")\n",
    "\n",
    "def navigate_to_parent_directory(_):\n",
    "    \"\"\"Navigate to the parent directory.\"\"\"\n",
    "    global current_path  # Make current_path accessible globally\n",
    "    parent_path = os.path.dirname(current_path)\n",
    "    current_path = parent_path  # Update global variable\n",
    "    path_display.value = current_path\n",
    "    refresh_directory_view(current_path)\n",
    "\n",
    "def refresh_directory_view(path):\n",
    "    \"\"\"Refresh the directory view.\"\"\"\n",
    "    directory_view.children = [display_directories(path)]\n",
    "\n",
    "# Button to go to the parent directory\n",
    "parent_button = widgets.Button(\n",
    "    description='Go to Parent Directory',\n",
    "    layout=widgets.Layout(width='auto', height='30px')\n",
    ")\n",
    "parent_button.style.button_color = '#007bff'\n",
    "parent_button.on_click(navigate_to_parent_directory)\n",
    "\n",
    "# Initialize the directory view\n",
    "directory_view = widgets.VBox(children=[display_directories(current_path)])\n",
    "\n",
    "# Layout the widgets\n",
    "navigation_box = widgets.VBox([path_display, parent_button, directory_view, output])\n",
    "display(navigation_box)\n",
    "\n",
    "# If the current path stops updating, run this cell again"
   ],
   "outputs": [
    {
     "data": {
      "text/plain": [
       "VBox(children=(Text(value='/Users/alexandergadin/PycharmProjects/QP2_Big_data_project_tools', description='Pat…"
      ],
      "application/vnd.jupyter.widget-view+json": {
       "version_major": 2,
       "version_minor": 0,
       "model_id": "8be6e1a17bb8407282f24ab6aed69341"
      }
     },
     "metadata": {},
     "output_type": "display_data"
    }
   ],
   "execution_count": 4
  },
  {
   "cell_type": "markdown",
   "id": "90a1e0973df845b9",
   "metadata": {},
   "source": [
    "# Format the image stack\n",
    "Using the folder path selected above, we will format the image stack to be compatible with the nnU-Net framework. The formatting will include converting the image stack to .nii.gz format and saving it to a temporary folder. The image stack has to be in .nii.gz format for the nnU-Net framework to process it as that is the same format the model was trained on. Fortunately, it is easy to convert the image stack to .nii.gz format  using the cell below"
   ]
  },
  {
   "cell_type": "code",
   "id": "9c2a330fce308bb0",
   "metadata": {
    "ExecuteTime": {
     "end_time": "2025-01-23T06:11:44.311817Z",
     "start_time": "2025-01-23T06:11:41.042124Z"
    }
   },
   "source": [
    "import os\n",
    "import tempfile\n",
    "import nibabel as nib\n",
    "import numpy as np\n",
    "from PIL import Image\n",
    "def count_png_file_s(path):\n",
    "    \"\"\"Count the number of .png files in the given directory.\"\"\"\n",
    "    return len([f for f in os.listdir(path) if f.endswith('.png')])\n",
    "# Check if directory_path is set and valid\n",
    "if 'current_path' not in locals() or not os.path.isdir(current_path) or not count_png_file_s(current_path):\n",
    "    print(\"Warning: 'input_path' is not invalid. Please run the previous step to set a valid path to folder with .png files.\")\n",
    "else:\n",
    "    # Create a temporary folder\n",
    "    temp_folder = tempfile.mkdtemp()\n",
    "\n",
    "    # Gather all PNG files in the directory\n",
    "    png_files = sorted([f for f in os.listdir(current_path) if f.endswith('.png')])\n",
    "\n",
    "    if not png_files:\n",
    "        print(\"No PNG files found in the specified directory.\")\n",
    "    else:\n",
    "        # Read PNG stack and convert to numpy array\n",
    "        png_stack = []\n",
    "        for png_file in png_files:\n",
    "            img_path = os.path.join(current_path, png_file)\n",
    "            img = Image.open(img_path).convert('L')  # Convert to grayscale\n",
    "            png_stack.append(np.array(img))\n",
    "\n",
    "        # Create a 3D numpy array\n",
    "        png_stack_array = np.stack(png_stack, axis=-1)\n",
    "\n",
    "        # Convert the numpy array to NIfTI format\n",
    "        nifti_img = nib.Nifti1Image(png_stack_array, affine=np.eye(4))\n",
    "\n",
    "        # Save the NIfTI file as .nii.gz in the temporary folder\n",
    "        output_file_path = os.path.join(temp_folder, \"amos_0000.nii.gz\")\n",
    "        nib.save(nifti_img, output_file_path)\n",
    "\n",
    "        # Clear other contents in the temp folder, if any\n",
    "        for file in os.listdir(temp_folder):\n",
    "            if file != \"amos_0000.nii.gz\":\n",
    "                os.remove(os.path.join(temp_folder, file))\n",
    "\n",
    "        # Save the temp folder path to input_folder\n",
    "\n",
    "        input_folder = temp_folder\n",
    "        os.environ['INPUT_FOLDER'] = input_folder\n",
    "        print(f\"Converted PNG stack saved as .nii.gz file in temporary folder: {input_folder}\")"
   ],
   "outputs": [
    {
     "name": "stdout",
     "output_type": "stream",
     "text": [
      "/Users/alexandergadin/Downloads/Group_6/MRI_2\n",
      "Converted PNG stack saved as .nii.gz file in temporary folder: /var/folders/mz/n0dm07dn7r5g8lt_cv00nhpr0000gn/T/tmpjphwy1ef\n"
     ]
    }
   ],
   "execution_count": 5
  },
  {
   "cell_type": "markdown",
   "id": "dc445615ccdc5e6a",
   "metadata": {},
   "source": [
    "# Running the Model on your Image Stack\n",
    "The `nnUNetv2_predict` command calls the nnU-Net framework to predict the location of the structures in the image stack. Below are the details of the flags used in the command:\n",
    "\n",
    "- `-i`: Specifies the input folder containing the image stack.\n",
    "- `-o`: Specifies the output folder to save the results.\n",
    "- `-d`: Specifies the dataset ID (provided).\n",
    "- `-c`: Specifies the resolution of the model.\n",
    "- `--save_probabilities`: Saves the predicted probabilities for each class."
   ]
  },
  {
   "cell_type": "code",
   "execution_count": 37,
   "id": "8ae4d8a9a8a37d4b",
   "metadata": {},
   "outputs": [
    {
     "name": "stdout",
     "output_type": "stream",
     "text": [
      "\n",
      "#######################################################################\n",
      "Please cite the following paper when using nnU-Net:\n",
      "Isensee, F., Jaeger, P. F., Kohl, S. A., Petersen, J., & Maier-Hein, K. H. (2021). nnU-Net: a self-configuring method for deep learning-based biomedical image segmentation. Nature methods, 18(2), 203-211.\n",
      "#######################################################################\n",
      "\n",
      "There are 1 cases in the source folder\n",
      "I am process 0 out of 1 (max process ID is 0, we start counting with 0!)\n",
      "There are 1 cases that I would like to predict\n",
      "\n",
      "Predicting amos:\n",
      "perform_everything_on_device: True\n"
     ]
    },
    {
     "name": "stderr",
     "output_type": "stream",
     "text": [
      "100%|██████████| 4/4 [00:02<00:00,  1.85it/s]\n",
      "100%|██████████| 4/4 [00:01<00:00,  3.35it/s]\n",
      "100%|██████████| 4/4 [00:01<00:00,  3.35it/s]\n",
      "100%|██████████| 4/4 [00:01<00:00,  3.35it/s]\n",
      "100%|██████████| 4/4 [00:01<00:00,  3.35it/s]\n"
     ]
    },
    {
     "name": "stdout",
     "output_type": "stream",
     "text": [
      "sending off prediction to background worker for resampling and export\n",
      "done with amos\n"
     ]
    },
    {
     "data": {
      "text/plain": [
       "0"
      ]
     },
     "execution_count": 37,
     "metadata": {},
     "output_type": "execute_result"
    }
   ],
   "source": [
    "import os\n",
    "import shutil\n",
    "\n",
    "# Dynamically find the path to nnUNetv2_predict\n",
    "home_dir = os.path.expanduser(\"~\")\n",
    "local_bin_dir = os.path.join(home_dir, \".local\", \"bin\")\n",
    "nnunet_path = shutil.which(\"nnUNetv2_predict\", path=local_bin_dir)\n",
    "\n",
    "if nnunet_path is None:\n",
    "    raise FileNotFoundError(\"nnUNetv2_predict not found in ~/.local/bin. Ensure it is installed and accessible.\")\n",
    "\n",
    "# Example usage\n",
    "input_folder = os.environ.get('INPUT_FOLDER')\n",
    "output_folder = \"outputFolder\"\n",
    "\n",
    "# Run the command\n",
    "os.system(f\"{nnunet_path} -i {input_folder} -o {output_folder} -d 123 -c 3d_fullres --save_probabilities\")\n"
   ]
  },
  {
   "cell_type": "code",
   "execution_count": 38,
   "id": "88fe6ddd-4a74-4ab1-b8fe-ac21c625a0c1",
   "metadata": {},
   "outputs": [
    {
     "name": "stdout",
     "output_type": "stream",
     "text": [
      "[]\n"
     ]
    }
   ],
   "source": [
    "import os\n",
    "import nibabel as nib\n",
    "import numpy as np\n",
    "import json\n",
    "\n",
    "# Define the output folder and find the .nii.gz file\n",
    "nii_files = [f for f in os.listdir(output_folder) if f.endswith('.nii.gz')]\n",
    "if not nii_files:\n",
    "    raise FileNotFoundError(\"No .nii.gz files found in the output folder.\")\n",
    "file_path = os.path.join(output_folder, nii_files[0])\n",
    "\n",
    "# Load the .nii.gz file\n",
    "img = nib.load(file_path)\n",
    "\n",
    "# Convert the image data to a NumPy array\n",
    "image_data = img.get_fdata()\n",
    "\n",
    "# Get unique region numbers, excluding background (0) and numbers greater than 12\n",
    "unique_regions = np.unique(image_data)\n",
    "filtered_regions = unique_regions[(unique_regions > 0) & (unique_regions <= 12)]\n",
    "print(filtered_regions)\n",
    "# Look up the plan2_path.json file in the folder specified by the nnUNet_raw environment variable\n",
    "nnUNet_raw = os.environ.get('nnUNet_raw')\n",
    "nnUNet_raw = os.path.join(nnUNet_raw, \"Dataset123_Foo\", \"nnUNetTrainer__nnUNetPlans__3d_fullres\")\n",
    "if not nnUNet_raw:\n",
    "    raise EnvironmentError(\"Environment variable 'nnUNet_raw' is not set.\")\n",
    "plan2_path = os.path.join(nnUNet_raw, \"plan2.json\")\n",
    "if not os.path.exists(plan2_path):\n",
    "    raise FileNotFoundError(f\"plan2_path.json not found in {nnUNet_raw}.\")\n",
    "\n",
    "# Load the plan2_path.json file\n",
    "with open(plan2_path, 'r') as f:\n",
    "    plan2_data = json.load(f)\n",
    "\n",
    "# Print the strings corresponding to the region numbers\n",
    "for region in filtered_regions:\n",
    "    region_str = plan2_data.get(str(int(region)), \"Unknown region\")\n",
    "    print(f\"Region {int(region)}: {region_str}\")"
   ]
  },
  {
   "cell_type": "code",
   "execution_count": null,
   "id": "067639d2-809f-4a18-befc-7486518ba40b",
   "metadata": {},
   "outputs": [],
   "source": []
  }
 ],
 "metadata": {
  "kernelspec": {
   "display_name": "Python 3 (ipykernel)",
   "language": "python",
   "name": "python3"
  },
  "language_info": {
   "codemirror_mode": {
    "name": "ipython",
    "version": 3
   },
   "file_extension": ".py",
   "mimetype": "text/x-python",
   "name": "python",
   "nbconvert_exporter": "python",
   "pygments_lexer": "ipython3",
   "version": "3.11.6"
  }
 },
 "nbformat": 4,
 "nbformat_minor": 5
}
